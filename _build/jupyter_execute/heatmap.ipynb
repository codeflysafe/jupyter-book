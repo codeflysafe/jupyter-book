{
 "cells": [
  {
   "attachments": {},
   "cell_type": "markdown",
   "metadata": {},
   "source": [
    "# Heatmap 可视化"
   ]
  },
  {
   "cell_type": "code",
   "execution_count": 1,
   "metadata": {},
   "outputs": [],
   "source": [
    "import numpy as np\n",
    "import seaborn as sns\n",
    "import matplotlib.pyplot as plt"
   ]
  },
  {
   "attachments": {},
   "cell_type": "markdown",
   "metadata": {},
   "source": [
    "## 一维高斯分布以及二维高斯分布\n",
    "\n",
    "### 高斯分布 $x \\sim N(\\mu, \\sigma)$\n",
    "\n",
    "$$\n",
    "f(x) = \\frac{1}{\\sqrt{2\\pi}\\sigma}\\exp{\\frac{-(x-\\mu)^2}{2\\sigma^2}}\n",
    "$$\n",
    "\n",
    "### 二维高斯分布 \n",
    "x, y 相互独立\n",
    "$$\n",
    "f(x, y) = \\frac{1}{\\sqrt{2\\pi}\\sigma_1\\sigma_2}(\\exp{\\frac{-(x-\\mu_1)^2}{2\\sigma_1^2}} + \\exp{\\frac{-(y-\\mu_2)^2}{2\\sigma_2^2}})\n",
    "$$\n"
   ]
  },
  {
   "cell_type": "code",
   "execution_count": 2,
   "metadata": {},
   "outputs": [],
   "source": [
    "def gaus1d(x, mu, sigma):\n",
    "    return np.exp(-(x - mu)**2.0/(2.0*sigma**2.0))/(np.sqrt(2*np.pi)*sigma)\n",
    "\n",
    "def gaus2d(x, x_mu, y, y_mu, sigma):\n",
    "    return np.exp(-((x - x_mu)**2.0/(2.0*sigma**2.0) + (y - y_mu)**2.0/(2.0*sigma**2.0)))\n"
   ]
  },
  {
   "cell_type": "code",
   "execution_count": 3,
   "metadata": {},
   "outputs": [],
   "source": [
    "def gen_heatlines(coordinates, W = 256, H = 256):\n",
    "    '''\n",
    "    coordinates: a set of coordinates, np.ndarray, shape [N, 2]\n",
    "    W: weight of heatline\n",
    "    H: height of heatline\n",
    "    '''\n",
    "    x, y = coordinates[0],coordinates[1]\n",
    "    x_line = np.linspace(0, W - 1, W)\n",
    "    y_line = np.linspace(0, H - 1, H)\n",
    "    sigma = 2\n",
    "    x_heatline = gaus1d(x_line, x, sigma)\n",
    "    y_heatline = gaus1d(y_line, y, sigma)\n",
    "    x_fig_name = f'{x}_{y}_x_heatline.png'\n",
    "    y_fig_name = f'{x}_{y}_y_heatline.png' \n",
    "    x_heatline = np.repeat(np.reshape(x_heatline, (1,W)),W, axis= 0)\n",
    "    y_heatline = np.repeat(np.reshape(y_heatline, (1,H)),H, axis= 0)\n",
    "    print(x_heatline.shape, y_heatline.shape)\n",
    "    ax = sns.heatmap(data=x_heatline,cmap=\"RdBu_r\",cbar=False,xticklabels =False,yticklabels=False, robust=True) \n",
    "    hist_fig = ax.get_figure()\n",
    "    # hist_fig.savefig(x_fig_name ,dpi=1000 ,bbox_inches = 'tight')\n",
    "    ax = sns.heatmap(data=y_heatline,cmap=\"RdBu_r\",cbar=False,xticklabels =False,yticklabels=False ) \n",
    "    hist_fig = ax.get_figure()\n",
    "    # hist_fig.savefig(y_fig_name, dpi=1000,bbox_inches = 'tight')\n",
    "    plt.show()"
   ]
  },
  {
   "cell_type": "code",
   "execution_count": 4,
   "metadata": {},
   "outputs": [
    {
     "name": "stdout",
     "output_type": "stream",
     "text": [
      "(32, 32) (32, 32)\n"
     ]
    },
    {
     "data": {
      "image/png": "[encoded data removed]",
      "text/plain": [
       "<Figure size 432x288 with 1 Axes>"
      ]
     },
     "metadata": {
      "filenames": {
       "image/png": "/Users/sjhuang/Documents/docs/notes/math-in-dp/_build/jupyter_execute/heatmap_5_1.png"
      }
     },
     "output_type": "display_data"
    }
   ],
   "source": [
    "coordinates = [8, 16]\n",
    "gen_heatlines(coordinates,W = 32, H = 32)"
   ]
  },
  {
   "cell_type": "code",
   "execution_count": 5,
   "metadata": {},
   "outputs": [],
   "source": [
    "def gen_heatmap(coordinates, W = 256, H = 256):\n",
    "    '''\n",
    "    coordinates: a set of coordinates, np.ndarray, shape [N, 2]\n",
    "    W: weight of heatline\n",
    "    H: height of heatline\n",
    "    '''\n",
    "    mu_x, mu_y = coordinates[0],coordinates[1]\n",
    "    sigma = 3\n",
    "    x = np.arange(0, W, 1, np.float32)\n",
    "    y = np.arange(0, H, 1, np.float32)\n",
    "    y = y[:, None]\n",
    "    target = np.exp(-((x - mu_x)**2 +(y - mu_y)**2) / (2 * sigma**2))/(np.sqrt(2*np.pi)*sigma*sigma)\n",
    "    xy_fig_name = 'xy_heatmap.png'\n",
    "    ax = sns.heatmap(data=target,cmap=\"RdBu_r\", cbar=False,xticklabels =False,yticklabels=False, robust=True) \n",
    "    hist_fig = ax.get_figure()\n",
    "    # hist_fig.savefig(xy_fig_name ,dpi=1000,bbox_inches = 'tight')\n",
    "    plt.show()"
   ]
  },
  {
   "cell_type": "code",
   "execution_count": 6,
   "metadata": {},
   "outputs": [
    {
     "data": {
      "image/png": "[encoded data removed]",
      "text/plain": [
       "<Figure size 432x288 with 1 Axes>"
      ]
     },
     "metadata": {
      "filenames": {
       "image/png": "/Users/sjhuang/Documents/docs/notes/math-in-dp/_build/jupyter_execute/heatmap_7_0.png"
      }
     },
     "output_type": "display_data"
    }
   ],
   "source": [
    "coordinates = [8, 16]\n",
    "    # gen_heatlines(coordinates,W = 32, H = 32)\n",
    "gen_heatmap(coordinates, W = 32, H = 32)"
   ]
  }
 ],
 "metadata": {
  "kernelspec": {
   "display_name": "dl",
   "language": "python",
   "name": "python3"
  },
  "language_info": {
   "codemirror_mode": {
    "name": "ipython",
    "version": 3
   },
   "file_extension": ".py",
   "mimetype": "text/x-python",
   "name": "python",
   "nbconvert_exporter": "python",
   "pygments_lexer": "ipython3",
   "version": "3.9.5"
  },
  "vscode": {
   "interpreter": {
    "hash": "ddb6ac1274766aae8d48ea24c2a86f46ae3ad795c594d0c816246e36b08c5206"
   }
  }
 },
 "nbformat": 4,
 "nbformat_minor": 2
}